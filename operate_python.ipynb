{
 "cells": [
  {
   "cell_type": "code",
   "execution_count": 1,
   "id": "a4f21a63-05d8-4962-87be-4031d995ec73",
   "metadata": {},
   "outputs": [],
   "source": [
    "import os"
   ]
  },
  {
   "cell_type": "code",
   "execution_count": 2,
   "id": "8e49f554-849b-4daa-8cb1-45f4f2cb2ae5",
   "metadata": {},
   "outputs": [],
   "source": [
    "!python  dev_create_sql_ttm_babel_gen.py ./source_data/babel_new_logs.csv"
   ]
  },
  {
   "cell_type": "code",
   "execution_count": 9,
   "id": "9efd2766-6c4d-406c-bb84-8004e987f6ac",
   "metadata": {},
   "outputs": [],
   "source": [
    "##!python  prod_create_sql_ttm_babel_gen.py babel_logs_20250225.csv"
   ]
  },
  {
   "cell_type": "code",
   "execution_count": null,
   "id": "6e18e15a-ae0d-4617-baa3-4994c2d89d23",
   "metadata": {},
   "outputs": [],
   "source": []
  }
 ],
 "metadata": {
  "kernelspec": {
   "display_name": "py3.10_env",
   "language": "python",
   "name": "py3.10_env"
  },
  "language_info": {
   "codemirror_mode": {
    "name": "ipython",
    "version": 3
   },
   "file_extension": ".py",
   "mimetype": "text/x-python",
   "name": "python",
   "nbconvert_exporter": "python",
   "pygments_lexer": "ipython3",
   "version": "3.10.13"
  }
 },
 "nbformat": 4,
 "nbformat_minor": 5
}
