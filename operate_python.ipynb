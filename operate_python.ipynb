{
 "cells": [
  {
   "cell_type": "code",
   "execution_count": 1,
   "id": "a4f21a63-05d8-4962-87be-4031d995ec73",
   "metadata": {},
   "outputs": [],
   "source": [
    "import os"
   ]
  },
  {
   "cell_type": "code",
   "execution_count": 5,
   "id": "8e49f554-849b-4daa-8cb1-45f4f2cb2ae5",
   "metadata": {},
   "outputs": [],
   "source": [
    "!python  dev_create_sql_ttm_babel_gen.py ./source_data/babel_new_logs.csv"
   ]
  },
  {
   "cell_type": "code",
   "execution_count": 9,
   "id": "9efd2766-6c4d-406c-bb84-8004e987f6ac",
   "metadata": {},
   "outputs": [],
   "source": [
    "##!python  prod_create_sql_ttm_babel_gen.py babel_logs_20250225.csv"
   ]
  },
  {
   "cell_type": "code",
   "execution_count": 3,
   "id": "6e18e15a-ae0d-4617-baa3-4994c2d89d23",
   "metadata": {},
   "outputs": [
    {
     "name": "stdout",
     "output_type": "stream",
     "text": [
      "\u001b[33mUsage: \u001b[0msnow sql [OPTIONS]\n",
      "\u001b[2mTry \u001b[0m\u001b[2;34m'snow sql \u001b[0m\u001b[1;2;34m-\u001b[0m\u001b[1;2;34m-help\u001b[0m\u001b[2;34m'\u001b[0m\u001b[2m for help.\u001b[0m\n",
      "\u001b[31m╭─\u001b[0m\u001b[31m Error \u001b[0m\u001b[31m─────────────────────────────────────────────────────────────────────\u001b[0m\u001b[31m─╮\u001b[0m\n",
      "\u001b[31m│\u001b[0m No such option: \u001b[1;36m-\u001b[0m\u001b[1;36m-config\u001b[0m\u001b[1;36m-file\u001b[0m Did you mean \u001b[1;36m-\u001b[0m\u001b[1;36m-token\u001b[0m\u001b[1;36m-file-path\u001b[0m?                \u001b[31m│\u001b[0m\n",
      "\u001b[31m╰──────────────────────────────────────────────────────────────────────────────╯\u001b[0m\n"
     ]
    }
   ],
   "source": [
    "!snow sql -f sample.sql --config-file=\"config.toml\" connection test --connection=\"ttm_babel\""
   ]
  },
  {
   "cell_type": "code",
   "execution_count": null,
   "id": "087d67e0-d431-422b-a33b-16fc3d8e6642",
   "metadata": {},
   "outputs": [],
   "source": []
  }
 ],
 "metadata": {
  "kernelspec": {
   "display_name": "py3.10_env",
   "language": "python",
   "name": "py3.10_env"
  },
  "language_info": {
   "codemirror_mode": {
    "name": "ipython",
    "version": 3
   },
   "file_extension": ".py",
   "mimetype": "text/x-python",
   "name": "python",
   "nbconvert_exporter": "python",
   "pygments_lexer": "ipython3",
   "version": "3.10.13"
  }
 },
 "nbformat": 4,
 "nbformat_minor": 5
}
